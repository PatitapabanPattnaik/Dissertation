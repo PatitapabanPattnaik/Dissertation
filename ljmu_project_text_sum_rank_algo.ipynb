{
 "cells": [
  {
   "cell_type": "code",
   "execution_count": 135,
   "metadata": {},
   "outputs": [],
   "source": [
    "import numpy as np\n",
    "import pandas as pd\n",
    "import nltk\n",
    "import re, string\n",
    "from nltk.tokenize import sent_tokenize\n",
    "from nltk.corpus import stopwords\n",
    "from gensim.models import Word2Vec\n",
    "from scipy import spatial\n",
    "import networkx as nx\n",
    "from sklearn.metrics.pairwise import cosine_similarity\n",
    "\n"
   ]
  },
  {
   "cell_type": "code",
   "execution_count": 119,
   "metadata": {},
   "outputs": [],
   "source": [
    "#reading the fake and true datasets\n",
    "fake_news = pd.read_csv('D:\\\\bits\\\\sem4\\\\project_dataset\\\\Fake.csv')\n",
    "true_news = pd.read_csv('D:\\\\bits\\\\sem4\\\\project_dataset\\\\True.csv')\n",
    "\n",
    "#Target variable for fake news\n",
    "fake_news['output']=0\n",
    "\n",
    "#Target variable for true news\n",
    "true_news['output']=1\n",
    "#Concatenating and dropping for fake news\n",
    "fake_news['news']=fake_news['title']+fake_news['text']\n",
    "fake_news=fake_news.drop(['title', 'text'], axis=1)\n",
    "\n",
    "#Concatenating and dropping for true news\n",
    "true_news['news']=true_news['title']+true_news['text']\n",
    "true_news=true_news.drop(['title', 'text'], axis=1)\n",
    "\n",
    "#Rearranging the columns\n",
    "fake_news = fake_news[['subject', 'date', 'news','output']]\n",
    "true_news = true_news[['subject', 'date', 'news','output']]\n",
    "\n",
    "#Removing links and the headline from the date column\n",
    "fake_news=fake_news[~fake_news.date.str.contains(\"http\")]\n",
    "fake_news=fake_news[~fake_news.date.str.contains(\"HOST\")]\n",
    "\n",
    "#Converting the date to datetime format\n",
    "fake_news['date'] = pd.to_datetime(fake_news['date'])\n",
    "true_news['date'] = pd.to_datetime(true_news['date'])\n",
    "\n",
    "#combine all news\n",
    "frames = [fake_news, true_news]\n",
    "news_dataset = pd.concat(frames)\n",
    "news_dataset\n",
    "\n",
    "#Creating a copy \n",
    "clean_news=news_dataset.copy()\n",
    "\n",
    "# define punctuation\n",
    "punctuations = '''!\"#$%&\\'()*+,-/:;<=>?@[\\\\]^_`{|}~'''\n",
    "\n",
    "''\n",
    "\n",
    "def review_cleaning(text):\n",
    "    '''Make text lowercase, remove text in square brackets,remove links,remove punctuation\n",
    "    and remove words containing numbers.'''\n",
    "    text = str(text).lower()\n",
    "    text = re.sub('\\[.*?\\]', '', text)\n",
    "    text = re.sub('https?://\\S+|www\\.\\S+', '', text)\n",
    "    text = re.sub('<.*?>+', '', text)\n",
    "    text = re.sub('[%s]' % re.escape(punctuations), '', text)\n",
    "    text = re.sub('\\n', '', text)\n",
    "    text = re.sub('\\w*\\d\\w*', '', text)\n",
    "    text = re.sub('mr.', 'mr', text)\n",
    "    text = re.sub('u.s.', 'usa', text)\n",
    "    return text"
   ]
  },
  {
   "cell_type": "code",
   "execution_count": 120,
   "metadata": {},
   "outputs": [
    {
     "data": {
      "text/html": [
       "<div>\n",
       "<style scoped>\n",
       "    .dataframe tbody tr th:only-of-type {\n",
       "        vertical-align: middle;\n",
       "    }\n",
       "\n",
       "    .dataframe tbody tr th {\n",
       "        vertical-align: top;\n",
       "    }\n",
       "\n",
       "    .dataframe thead th {\n",
       "        text-align: right;\n",
       "    }\n",
       "</style>\n",
       "<table border=\"1\" class=\"dataframe\">\n",
       "  <thead>\n",
       "    <tr style=\"text-align: right;\">\n",
       "      <th></th>\n",
       "      <th>subject</th>\n",
       "      <th>date</th>\n",
       "      <th>news</th>\n",
       "      <th>output</th>\n",
       "    </tr>\n",
       "  </thead>\n",
       "  <tbody>\n",
       "    <tr>\n",
       "      <th>0</th>\n",
       "      <td>News</td>\n",
       "      <td>2017-12-31</td>\n",
       "      <td>donald trump sends out embarrassing new year’...</td>\n",
       "      <td>0</td>\n",
       "    </tr>\n",
       "    <tr>\n",
       "      <th>1</th>\n",
       "      <td>News</td>\n",
       "      <td>2017-12-31</td>\n",
       "      <td>drunk bragging trump staffer started rusaan c...</td>\n",
       "      <td>0</td>\n",
       "    </tr>\n",
       "    <tr>\n",
       "      <th>2</th>\n",
       "      <td>News</td>\n",
       "      <td>2017-12-30</td>\n",
       "      <td>sheriff david clarke becomes an internet joke...</td>\n",
       "      <td>0</td>\n",
       "    </tr>\n",
       "    <tr>\n",
       "      <th>3</th>\n",
       "      <td>News</td>\n",
       "      <td>2017-12-29</td>\n",
       "      <td>trump is so obsessed he even has obama’s name...</td>\n",
       "      <td>0</td>\n",
       "    </tr>\n",
       "    <tr>\n",
       "      <th>4</th>\n",
       "      <td>News</td>\n",
       "      <td>2017-12-25</td>\n",
       "      <td>pope francis just called out donald trump dur...</td>\n",
       "      <td>0</td>\n",
       "    </tr>\n",
       "  </tbody>\n",
       "</table>\n",
       "</div>"
      ],
      "text/plain": [
       "  subject       date                                               news  \\\n",
       "0    News 2017-12-31   donald trump sends out embarrassing new year’...   \n",
       "1    News 2017-12-31   drunk bragging trump staffer started rusaan c...   \n",
       "2    News 2017-12-30   sheriff david clarke becomes an internet joke...   \n",
       "3    News 2017-12-29   trump is so obsessed he even has obama’s name...   \n",
       "4    News 2017-12-25   pope francis just called out donald trump dur...   \n",
       "\n",
       "   output  \n",
       "0       0  \n",
       "1       0  \n",
       "2       0  \n",
       "3       0  \n",
       "4       0  "
      ]
     },
     "execution_count": 120,
     "metadata": {},
     "output_type": "execute_result"
    }
   ],
   "source": [
    "clean_news['news']=clean_news['news'].apply(lambda x:review_cleaning(x))\n",
    "clean_news.head()"
   ]
  },
  {
   "cell_type": "code",
   "execution_count": 121,
   "metadata": {},
   "outputs": [],
   "source": [
    "sentence = list(clean_news['news'][1])"
   ]
  },
  {
   "cell_type": "code",
   "execution_count": 122,
   "metadata": {},
   "outputs": [
    {
     "data": {
      "text/plain": [
       "[' drunk bragging trump staffer started rusaan collusion investigationhouse intelligence committee chairman devin nunes is going to have a bad day. he s been under the assumption like many of us that the christopher steeledossier was what prompted the rusaa investigation so he s been lashing out at the department of justice and the fbi in order to protect trump. as it happens the dossier is not what started the investigation according to documents obtained by the new york times.former trump campaign adviser george papadopoulos was drunk in a wine bar when he revealed knowledge of rusaan opposition research on hillary clinton.on top of that papadopoulos wasn t just a covfefe boy for trump as his administration has alleged. he had a much larger role but none so damning as being a drunken fool in a wine bar. coffee boys  don t help to arrange a new york meeting between trump and president abdel fattah elsisi of egypt two months before the election. it was known before that the former aide set up meetings with world leaders for trump but team trump ran with him being merely a coffee boy.in may  papadopoulos revealed to australian diplomat alexander downer that rusaan officials were shopping around possible dirt on thendemocratic presidential nominee hillary clinton. exactly how much mr papadopoulos said that night at the kensington wine rooms with the australian alexander downer is unclear  the report states.  but two months later when leaked democratic emails began appearing online australian officials passed the information about mr papadopoulos to their american counterparts according to four current and former american and foreign officials with direct knowledge of the australians  role. papadopoulos pleaded guilty to lying to the f.b.i. and is now a cooperating witness with special cousal robert mueller s team.this isn t a presidency. it s a badly scripted reality tv show.photo by win mcnameegetty images.', 'usa military to accept transgender recruits on monday pentagonwashington reuters  transgender people will be allowed for the first time to enlist in the usa military starting on monday as ordered by federal courts the pentagon said on friday after president donald trump’s administration decided not to appeal rulings that blocked his transgender ban. two federal appeals courts one in washington and one in virginia last week rejected the administration’s requsa to put on hold orders by lower court judges requiring the military to begin accepting transgender recruits on jan. . a justice department official said the administration will not challenge those rulings. “the department of defense has announced that it will be releasing an independent study of these issusain the coming weeks. so rather than litigate this interim appeal before that occusathe administration has decided to wait for dod’s study and will continue to defend the president’s lawful authority in district court in the meantime” the official said speaking on condition of anonymity. in september the pentagon said it had created a panel of senior officials to study how to implement a directive by trump to prohibit transgender individuals from serving. the defense department has until feb.  to submit a plan to trump. lawyers representing currentlyserving transgender service members and aspiring recruits said they had expected the administration to appeal the rulings to the conservativemajority supreme court but were hoping that would not happen. pentagon spokeswoman heather babb said in a statement “as mandated by court order the department of defense is prepared to begin accessing transgender applicants for military service jan. . all applicants must meet all accession standards.” jennifer levi a lawyer with gay lesbian and transgender advocacy group glad called the decision not to appeal “great news.” “i’m hoping it means the government has come to see that there is no way to justify a ban and that it’s not good for the military or our country” levi said. both glad and the american civil liberties union represent plaintiffs in the lawsuits filed against the administration. in a move that appealed to his hardline conservative supporters trump announced in july that he would prohibit transgender people from serving in the military reversing democratic president barack obama’s policy of accepting them. trump said on twitter at the time that the military “cannot be burdened with the tremendous medical costs and disruption that transgender in the military would entail.” four federal judges  in baltimore washington d.c. seattle and riverside california  have issued rulings blocking trump’s ban while legal challenges to the republican president’s policy proceed. the judges said the ban would likely violate the right under the usa constitution to equal protection under the law. the pentagon on dec.  issued guidelines to recruitment personnel in order to enlist transgender applicants by jan. . the memo outlined medical requirements and specified how the applicants’ sex would be identified and even which undergarments they would wear. the trump administration previously said in legal papers that the armed forces were not prepared to train thousands of personnel on the medical standards needed to process transgender applicants and might have to accept “some individuals who are not medically fit for service.” the obama administration had set a deadline of july   to begin accepting transgender recruits. but trump’s defense secretary james mattis postponed that date to jan.   which the president’s ban then put off indefinitely. trump has taken other steps aimed at rolling back transgender rights. in october his administration said a federal law banning genderbased workplace discrimination does not protect transgender employees reversing another obamaera position. in february trump rescinded guidance issued by the obama administration saying that public schools should allow transgender students to use the restroom that corresponds to their gender identity. ']"
      ]
     },
     "execution_count": 122,
     "metadata": {},
     "output_type": "execute_result"
    }
   ],
   "source": [
    "sentence"
   ]
  },
  {
   "cell_type": "code",
   "execution_count": 123,
   "metadata": {},
   "outputs": [],
   "source": [
    "sentences = []\n",
    "for s in clean_news['news'][1]:\n",
    "  sentences.append(sent_tokenize(s))\n",
    "\n",
    "sentences = [y for x in sentences for y in x] # flatten list"
   ]
  },
  {
   "cell_type": "code",
   "execution_count": 124,
   "metadata": {},
   "outputs": [
    {
     "data": {
      "text/plain": [
       "[' drunk bragging trump staffer started rusaan collusion investigationhouse intelligence committee chairman devin nunes is going to have a bad day.', 'he s been under the assumption like many of us that the christopher steeledossier was what prompted the rusaa investigation so he s been lashing out at the department of justice and the fbi in order to protect trump.', 'as it happens the dossier is not what started the investigation according to documents obtained by the new york times.former trump campaign adviser george papadopoulos was drunk in a wine bar when he revealed knowledge of rusaan opposition research on hillary clinton.on top of that papadopoulos wasn t just a covfefe boy for trump as his administration has alleged.', 'he had a much larger role but none so damning as being a drunken fool in a wine bar.', 'coffee boys  don t help to arrange a new york meeting between trump and president abdel fattah elsisi of egypt two months before the election.', 'it was known before that the former aide set up meetings with world leaders for trump but team trump ran with him being merely a coffee boy.in may  papadopoulos revealed to australian diplomat alexander downer that rusaan officials were shopping around possible dirt on thendemocratic presidential nominee hillary clinton.', 'exactly how much mr papadopoulos said that night at the kensington wine rooms with the australian alexander downer is unclear  the report states.', 'but two months later when leaked democratic emails began appearing online australian officials passed the information about mr papadopoulos to their american counterparts according to four current and former american and foreign officials with direct knowledge of the australians  role.', 'papadopoulos pleaded guilty to lying to the f.b.i.', 'and is now a cooperating witness with special cousal robert mueller s team.this isn t a presidency.', 'it s a badly scripted reality tv show.photo by win mcnameegetty images.', 'usa military to accept transgender recruits on monday pentagonwashington reuters  transgender people will be allowed for the first time to enlist in the usa military starting on monday as ordered by federal courts the pentagon said on friday after president donald trump’s administration decided not to appeal rulings that blocked his transgender ban.', 'two federal appeals courts one in washington and one in virginia last week rejected the administration’s requsa to put on hold orders by lower court judges requiring the military to begin accepting transgender recruits on jan. .', 'a justice department official said the administration will not challenge those rulings.', '“the department of defense has announced that it will be releasing an independent study of these issusain the coming weeks.', 'so rather than litigate this interim appeal before that occusathe administration has decided to wait for dod’s study and will continue to defend the president’s lawful authority in district court in the meantime” the official said speaking on condition of anonymity.', 'in september the pentagon said it had created a panel of senior officials to study how to implement a directive by trump to prohibit transgender individuals from serving.', 'the defense department has until feb.  to submit a plan to trump.', 'lawyers representing currentlyserving transgender service members and aspiring recruits said they had expected the administration to appeal the rulings to the conservativemajority supreme court but were hoping that would not happen.', 'pentagon spokeswoman heather babb said in a statement “as mandated by court order the department of defense is prepared to begin accessing transgender applicants for military service jan. .', 'all applicants must meet all accession standards.” jennifer levi a lawyer with gay lesbian and transgender advocacy group glad called the decision not to appeal “great news.” “i’m hoping it means the government has come to see that there is no way to justify a ban and that it’s not good for the military or our country” levi said.', 'both glad and the american civil liberties union represent plaintiffs in the lawsuits filed against the administration.', 'in a move that appealed to his hardline conservative supporters trump announced in july that he would prohibit transgender people from serving in the military reversing democratic president barack obama’s policy of accepting them.', 'trump said on twitter at the time that the military “cannot be burdened with the tremendous medical costs and disruption that transgender in the military would entail.” four federal judges  in baltimore washington d.c. seattle and riverside california  have issued rulings blocking trump’s ban while legal challenges to the republican president’s policy proceed.', 'the judges said the ban would likely violate the right under the usa constitution to equal protection under the law.', 'the pentagon on dec.  issued guidelines to recruitment personnel in order to enlist transgender applicants by jan. .', 'the memo outlined medical requirements and specified how the applicants’ sex would be identified and even which undergarments they would wear.', 'the trump administration previously said in legal papers that the armed forces were not prepared to train thousands of personnel on the medical standards needed to process transgender applicants and might have to accept “some individuals who are not medically fit for service.” the obama administration had set a deadline of july   to begin accepting transgender recruits.', 'but trump’s defense secretary james mattis postponed that date to jan.   which the president’s ban then put off indefinitely.', 'trump has taken other steps aimed at rolling back transgender rights.', 'in october his administration said a federal law banning genderbased workplace discrimination does not protect transgender employees reversing another obamaera position.', 'in february trump rescinded guidance issued by the obama administration saying that public schools should allow transgender students to use the restroom that corresponds to their gender identity.']"
      ]
     },
     "execution_count": 124,
     "metadata": {},
     "output_type": "execute_result"
    }
   ],
   "source": [
    "sentences"
   ]
  },
  {
   "cell_type": "code",
   "execution_count": 127,
   "metadata": {},
   "outputs": [
    {
     "name": "stderr",
     "output_type": "stream",
     "text": [
      "C:\\Users\\sunis\\Anaconda3\\lib\\site-packages\\ipykernel_launcher.py:2: FutureWarning: The default value of regex will change from True to False in a future version.\n",
      "  \n"
     ]
    }
   ],
   "source": [
    "# remove punctuations, numbers and special characters\n",
    "clean_sentences = pd.Series(sentences).str.replace(\"[^a-zA-Z]\", \" \")\n"
   ]
  },
  {
   "cell_type": "code",
   "execution_count": 129,
   "metadata": {},
   "outputs": [
    {
     "data": {
      "text/plain": [
       "'he s been under the assumption like many of us that the christopher steeledossier was what prompted the rusaa investigation so he s been lashing out at the department of justice and the fbi in order to protect trump '"
      ]
     },
     "execution_count": 129,
     "metadata": {},
     "output_type": "execute_result"
    }
   ],
   "source": [
    "clean_sentences[1]"
   ]
  },
  {
   "cell_type": "code",
   "execution_count": 130,
   "metadata": {},
   "outputs": [],
   "source": [
    "stop_words = stopwords.words('english')\n",
    "# function to remove stopwords\n",
    "def remove_stopwords(sen):\n",
    "    sen_new = \" \".join([i for i in sen if i not in stop_words])\n",
    "    return sen_new\n",
    "# remove stopwords from the sentences\n",
    "clean_sentences = [remove_stopwords(r.split()) for r in clean_sentences]"
   ]
  },
  {
   "cell_type": "code",
   "execution_count": 132,
   "metadata": {},
   "outputs": [
    {
     "data": {
      "text/plain": [
       "'assumption like many us christopher steeledossier prompted rusaa investigation lashing department justice fbi order protect trump'"
      ]
     },
     "execution_count": 132,
     "metadata": {},
     "output_type": "execute_result"
    }
   ],
   "source": [
    "clean_sentences[1]"
   ]
  },
  {
   "cell_type": "code",
   "execution_count": 133,
   "metadata": {},
   "outputs": [],
   "source": [
    "# Extract word vectors\n",
    "word_embeddings = {}\n",
    "f = open('D:\\\\bits\\\\sem4\\\\project_dataset\\\\glove.6B.50d.txt', encoding='utf-8')\n",
    "for line in f:\n",
    "    values = line.split()\n",
    "    word = values[0]\n",
    "    coefs = np.asarray(values[1:], dtype='float32')\n",
    "    word_embeddings[word] = coefs\n",
    "f.close()"
   ]
  },
  {
   "cell_type": "code",
   "execution_count": 134,
   "metadata": {},
   "outputs": [],
   "source": [
    "sentence_vectors = []\n",
    "for i in clean_sentences:\n",
    "  if len(i) != 0:\n",
    "    v = sum([word_embeddings.get(w, np.zeros((50,))) for w in i.split()])/(len(i.split())+0.001)\n",
    "  else:\n",
    "    v = np.zeros((50,))\n",
    "  sentence_vectors.append(v)"
   ]
  },
  {
   "cell_type": "code",
   "execution_count": 137,
   "metadata": {},
   "outputs": [],
   "source": [
    "# similarity matrix\n",
    "sim_mat = np.zeros([len(sentences), len(sentences)])\n",
    "for i in range(len(sentences)):\n",
    "  for j in range(len(sentences)):\n",
    "    if i != j:\n",
    "      sim_mat[i][j] = cosine_similarity(sentence_vectors[i].reshape(1,50), sentence_vectors[j].reshape(1,50))[0,0]"
   ]
  },
  {
   "cell_type": "code",
   "execution_count": 138,
   "metadata": {},
   "outputs": [],
   "source": [
    "import networkx as nx\n",
    "\n",
    "nx_graph = nx.from_numpy_array(sim_mat)\n",
    "scores = nx.pagerank(nx_graph)"
   ]
  },
  {
   "cell_type": "code",
   "execution_count": 141,
   "metadata": {},
   "outputs": [
    {
     "data": {
      "text/plain": [
       "[(0.033444490016717406, 'usa military to accept transgender recruits on monday pentagonwashington reuters  transgender people will be allowed for the first time to enlist in the usa military starting on monday as ordered by federal courts the pentagon said on friday after president donald trump’s administration decided not to appeal rulings that blocked his transgender ban.'), (0.03321784561799195, 'trump said on twitter at the time that the military “cannot be burdened with the tremendous medical costs and disruption that transgender in the military would entail.” four federal judges  in baltimore washington d.c. seattle and riverside california  have issued rulings blocking trump’s ban while legal challenges to the republican president’s policy proceed.'), (0.033211447098183064, 'two federal appeals courts one in washington and one in virginia last week rejected the administration’s requsa to put on hold orders by lower court judges requiring the military to begin accepting transgender recruits on jan. .'), (0.03294968234482034, 'the trump administration previously said in legal papers that the armed forces were not prepared to train thousands of personnel on the medical standards needed to process transgender applicants and might have to accept “some individuals who are not medically fit for service.” the obama administration had set a deadline of july   to begin accepting transgender recruits.'), (0.03293119896158964, 'lawyers representing currentlyserving transgender service members and aspiring recruits said they had expected the administration to appeal the rulings to the conservativemajority supreme court but were hoping that would not happen.'), (0.032875610168245195, 'all applicants must meet all accession standards.” jennifer levi a lawyer with gay lesbian and transgender advocacy group glad called the decision not to appeal “great news.” “i’m hoping it means the government has come to see that there is no way to justify a ban and that it’s not good for the military or our country” levi said.'), (0.03285165615542915, 'in september the pentagon said it had created a panel of senior officials to study how to implement a directive by trump to prohibit transgender individuals from serving.'), (0.03281671999459306, 'so rather than litigate this interim appeal before that occusathe administration has decided to wait for dod’s study and will continue to defend the president’s lawful authority in district court in the meantime” the official said speaking on condition of anonymity.'), (0.03276401536318132, 'he s been under the assumption like many of us that the christopher steeledossier was what prompted the rusaa investigation so he s been lashing out at the department of justice and the fbi in order to protect trump.'), (0.03251640721242829, 'but two months later when leaked democratic emails began appearing online australian officials passed the information about mr papadopoulos to their american counterparts according to four current and former american and foreign officials with direct knowledge of the australians  role.'), (0.032422059616332946, 'as it happens the dossier is not what started the investigation according to documents obtained by the new york times.former trump campaign adviser george papadopoulos was drunk in a wine bar when he revealed knowledge of rusaan opposition research on hillary clinton.on top of that papadopoulos wasn t just a covfefe boy for trump as his administration has alleged.'), (0.032249178225132694, '“the department of defense has announced that it will be releasing an independent study of these issusain the coming weeks.'), (0.03223681384147561, 'pentagon spokeswoman heather babb said in a statement “as mandated by court order the department of defense is prepared to begin accessing transgender applicants for military service jan. .'), (0.03205457860427777, 'the judges said the ban would likely violate the right under the usa constitution to equal protection under the law.'), (0.03204808364288563, 'in october his administration said a federal law banning genderbased workplace discrimination does not protect transgender employees reversing another obamaera position.'), (0.03199062127390472, 'a justice department official said the administration will not challenge those rulings.'), (0.031864853523635106, 'in february trump rescinded guidance issued by the obama administration saying that public schools should allow transgender students to use the restroom that corresponds to their gender identity.'), (0.031836498490963164, 'it was known before that the former aide set up meetings with world leaders for trump but team trump ran with him being merely a coffee boy.in may  papadopoulos revealed to australian diplomat alexander downer that rusaan officials were shopping around possible dirt on thendemocratic presidential nominee hillary clinton.'), (0.031739463352032385, 'in a move that appealed to his hardline conservative supporters trump announced in july that he would prohibit transgender people from serving in the military reversing democratic president barack obama’s policy of accepting them.'), (0.031131392925161226, 'trump has taken other steps aimed at rolling back transgender rights.'), (0.031101603422405838, 'coffee boys  don t help to arrange a new york meeting between trump and president abdel fattah elsisi of egypt two months before the election.'), (0.03096274227712752, 'exactly how much mr papadopoulos said that night at the kensington wine rooms with the australian alexander downer is unclear  the report states.'), (0.030960947574463316, 'the memo outlined medical requirements and specified how the applicants’ sex would be identified and even which undergarments they would wear.'), (0.030655406981708443, ' drunk bragging trump staffer started rusaan collusion investigationhouse intelligence committee chairman devin nunes is going to have a bad day.'), (0.030534595402403726, 'the defense department has until feb.  to submit a plan to trump.'), (0.030353691560047136, 'both glad and the american civil liberties union represent plaintiffs in the lawsuits filed against the administration.'), (0.030143261319171697, 'but trump’s defense secretary james mattis postponed that date to jan.   which the president’s ban then put off indefinitely.'), (0.030107692679849352, 'and is now a cooperating witness with special cousal robert mueller s team.this isn t a presidency.'), (0.028986808435822856, 'the pentagon on dec.  issued guidelines to recruitment personnel in order to enlist transgender applicants by jan. .'), (0.028385900091985668, 'he had a much larger role but none so damning as being a drunken fool in a wine bar.'), (0.02536302966591909, 'it s a badly scripted reality tv show.photo by win mcnameegetty images.'), (0.023291704160114734, 'papadopoulos pleaded guilty to lying to the f.b.i.')]"
      ]
     },
     "execution_count": 141,
     "metadata": {},
     "output_type": "execute_result"
    }
   ],
   "source": [
    "ranked_sentences"
   ]
  },
  {
   "cell_type": "code",
   "execution_count": 142,
   "metadata": {},
   "outputs": [
    {
     "name": "stdout",
     "output_type": "stream",
     "text": [
      "usa military to accept transgender recruits on monday pentagonwashington reuters  transgender people will be allowed for the first time to enlist in the usa military starting on monday as ordered by federal courts the pentagon said on friday after president donald trump’s administration decided not to appeal rulings that blocked his transgender ban.\n",
      "trump said on twitter at the time that the military “cannot be burdened with the tremendous medical costs and disruption that transgender in the military would entail.” four federal judges  in baltimore washington d.c. seattle and riverside california  have issued rulings blocking trump’s ban while legal challenges to the republican president’s policy proceed.\n",
      "two federal appeals courts one in washington and one in virginia last week rejected the administration’s requsa to put on hold orders by lower court judges requiring the military to begin accepting transgender recruits on jan. .\n"
     ]
    }
   ],
   "source": [
    "ranked_sentences = sorted(((scores[i],s) for i,s in enumerate(sentences)), reverse=True)\n",
    "# Extract top 10 sentences as the summary\n",
    "for i in range(3):\n",
    "  print(ranked_sentences[i][1])"
   ]
  },
  {
   "cell_type": "code",
   "execution_count": null,
   "metadata": {},
   "outputs": [],
   "source": []
  }
 ],
 "metadata": {
  "kernelspec": {
   "display_name": "Python 3",
   "language": "python",
   "name": "python3"
  },
  "language_info": {
   "codemirror_mode": {
    "name": "ipython",
    "version": 3
   },
   "file_extension": ".py",
   "mimetype": "text/x-python",
   "name": "python",
   "nbconvert_exporter": "python",
   "pygments_lexer": "ipython3",
   "version": "3.8.5"
  }
 },
 "nbformat": 4,
 "nbformat_minor": 2
}
