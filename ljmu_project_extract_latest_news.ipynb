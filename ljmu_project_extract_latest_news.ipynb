{
 "cells": [
  {
   "cell_type": "code",
   "execution_count": 13,
   "metadata": {},
   "outputs": [
    {
     "data": {
      "text/plain": [
       "['https://www.bnnbloomberg.ca/pfizer-course-has-23-efficacy-vs-omicron-in-s-african-study-1.1694395',\n",
       " 'https://www.lefigaro.fr/flash-actu/paris-grave-accident-de-la-route-impliquant-un-taxi-au-moins-7-blesses-graves-20211211',\n",
       " 'https://www.globaltimes.cn/page/202112/1241246.shtml',\n",
       " 'https://www.cbsnews.com/news/midtown-uniform-patagonia-will-no-longer-sell-vests-with-finance-firms-logos-on-them/',\n",
       " 'https://www.washingtonpost.com/history/2021/12/12/first-vaccine-mandate-massachusetts-waterhouse/',\n",
       " 'https://www.theverge.com/2021/12/10/22826695/apple-china-mou-275-billion-tim-cook-icloud',\n",
       " 'https://eev.ee/blog/2020/02/01/old-css-new-css/',\n",
       " 'https://www.bloomberg.com/news/articles/2021-12-10/salesforce-struggles-with-departures-slowing-sales-at-mulesoft',\n",
       " 'https://www.straitstimes.com/world/united-states/gothic-novelist-anne-rice-who-wrote-interview-with-the-vampire-dead-at-80',\n",
       " 'https://lite.cnn.com/en/article/h_a28d8bb0ff8e508bc4f1eec72f23c907',\n",
       " 'https://www.iarpa.gov/newsroom/article/iarpa-and-army-to-engineer-next-generation-of-computers',\n",
       " 'https://www.cnbc.com/2021/12/12/aws-outage-and-hashicorp-ipo-point-to-a-multicloud-future.html',\n",
       " 'https://bhupesh.gitbook.io/notes/git/view-python-function-git-history-with-fzf',\n",
       " 'http://content.time.com/time/health/article/0,8599,1937370,00.html']"
      ]
     },
     "execution_count": 13,
     "metadata": {},
     "output_type": "execute_result"
    }
   ],
   "source": [
    "import newspaper\n",
    "site = newspaper.build(\"https://news.ycombinator.com/\")  \n",
    " \n",
    "# get list of article URLs\n",
    "site.article_urls()"
   ]
  },
  {
   "cell_type": "code",
   "execution_count": 15,
   "metadata": {},
   "outputs": [],
   "source": [
    "import requests\n",
    "from bs4 import BeautifulSoup\n",
    "url = 'https://www.nytimes.com/'\n",
    "reqs = requests.get(url)\n",
    "soup = BeautifulSoup(reqs.text, 'html.parser')\n",
    "urls = []\n",
    "for link in soup.find_all('a'):\n",
    "    #print(link.get('href'))\n",
    "    urls.append(link.get('href')) "
   ]
  },
  {
   "cell_type": "code",
   "execution_count": 16,
   "metadata": {},
   "outputs": [
    {
     "data": {
      "text/plain": [
       "['#site-content',\n",
       " '#site-index',\n",
       " '/',\n",
       " '/',\n",
       " '/international/?action=click&region=Editions&pgtype=Homepage',\n",
       " '/ca/?action=click&region=Editions&pgtype=Homepage',\n",
       " 'https://www.nytimes.com/es/',\n",
       " 'https://cn.nytimes.com',\n",
       " 'https://www.nytimes.com/section/todayspaper',\n",
       " 'https://myaccount.nytimes.com/auth/login?response_type=cookie&client_id=vi&redirect_uri=https%3A%2F%2Fwww.nytimes.com%2Fsubscription%2Fmultiproduct%2Flp8KQUS.html%3FcampaignId%3D7JFJX&asset=masthead',\n",
       " '/',\n",
       " '/',\n",
       " '/section/world',\n",
       " '/section/us',\n",
       " '/section/politics',\n",
       " '/section/nyregion',\n",
       " '/section/business',\n",
       " '/section/opinion',\n",
       " '/section/technology',\n",
       " '/section/science',\n",
       " '/section/health',\n",
       " '/section/sports',\n",
       " '/section/arts',\n",
       " '/section/books',\n",
       " '/section/style',\n",
       " '/section/food',\n",
       " '/section/travel',\n",
       " '/section/magazine',\n",
       " '/section/t-magazine',\n",
       " '/section/realestate',\n",
       " '/video',\n",
       " 'https://www.nytimes.com/2021/12/11/us/kentucky-deadly-tornadoes.html',\n",
       " 'https://www.nytimes.com/2021/12/11/us/mayfield-kentucky-hit-by-tornado.html',\n",
       " 'https://www.nytimes.com/live/2021/12/11/us/tornadoes-midwest-south',\n",
       " 'https://www.nytimes.com/interactive/2021/12/11/us/tornado-maps-damage.html',\n",
       " '#after-dfp-ad-mid1',\n",
       " 'https://www.nytimes.com/2021/12/11/us/politics/trust-in-elections-trump-democracy.html',\n",
       " 'https://www.nytimes.com/2021/12/10/magazine/fall-of-kabul-afghanistan.html',\n",
       " 'https://www.nytimes.com/2021/12/11/health/covid-vaccine-africa.html',\n",
       " 'https://www.nytimes.com/live/2021/12/11/world/covid-omicron-vaccines',\n",
       " 'https://www.nytimes.com/2021/12/10/travel/international-travel-documents-covid.html',\n",
       " 'https://www.nytimes.com/interactive/2021/us/covid-cases.html',\n",
       " 'https://www.nytimes.com/interactive/2021/us/covid-cases.html',\n",
       " 'https://www.nytimes.com/interactive/2021/us/covid-cases.html',\n",
       " 'https://www.nytimes.com/interactive/2021/health/coronavirus-variant-tracker.html',\n",
       " 'https://www.nytimes.com/interactive/2021/health/coronavirus-variant-tracker.html',\n",
       " 'https://www.nytimes.com/interactive/2021/us/covid-cases-deaths-tracker.html',\n",
       " 'https://www.nytimes.com/interactive/2020/us/covid-19-vaccine-doses.html',\n",
       " 'https://www.nytimes.com/interactive/2021/world/covid-vaccinations-tracker.html',\n",
       " 'https://www.nytimes.com/interactive/2021/world/france-covid-cases.html',\n",
       " 'https://www.nytimes.com/interactive/2021/world/united-kingdom-covid-cases.html',\n",
       " 'https://www.nytimes.com/interactive/2021/us/michigan-covid-cases.html',\n",
       " 'https://www.nytimes.com/interactive/2021/us/minnesota-covid-cases.html',\n",
       " 'https://www.nytimes.com/interactive/2021/us/new-hampshire-covid-cases.html',\n",
       " 'https://www.nytimes.com/interactive/2021/us/covid-cases-deaths-tracker.html',\n",
       " 'https://www.nytimes.com/interactive/2020/us/covid-19-vaccine-doses.html',\n",
       " 'https://www.nytimes.com/interactive/2021/world/covid-vaccinations-tracker.html',\n",
       " 'https://www.nytimes.com/interactive/2021/world/france-covid-cases.html',\n",
       " 'https://www.nytimes.com/interactive/2021/world/united-kingdom-covid-cases.html',\n",
       " 'https://www.nytimes.com/interactive/2021/us/michigan-covid-cases.html',\n",
       " 'https://www.nytimes.com/interactive/2021/us/minnesota-covid-cases.html',\n",
       " 'https://www.nytimes.com/interactive/2021/us/new-hampshire-covid-cases.html',\n",
       " 'https://www.nytimes.com/2021/12/11/business/return-to-office-2022.html',\n",
       " 'https://www.nytimes.com/2021/12/12/us/politics/newsom-texas-abortion-law-guns.html',\n",
       " 'https://www.nytimes.com/interactive/2021/12/10/briefing/the-weekender.html',\n",
       " 'https://www.nytimes.com/interactive/2021/12/10/briefing/news-quiz-bob-dole-biden-putin-call.html',\n",
       " '#after-dfp-ad-mid2',\n",
       " 'https://www.nytimes.com/2021/12/01/magazine/new-years-cookie-recipe.html',\n",
       " 'https://www.nytimes.com/2021/12/06/movies/best-movies.html',\n",
       " 'https://www.nytimes.com/2021/12/10/style/my-not-so-secret-admirer.html',\n",
       " 'https://www.nytimes.com/newsletters/louder',\n",
       " 'https://www.nytimes.com/2021/12/10/arts/music/alicia-keys-keys-review.html',\n",
       " 'https://www.nytimes.com/2021/12/09/arts/music/new-christmas-holiday-albums.html',\n",
       " 'https://www.nytimes.com/section/opinion',\n",
       " 'https://www.nytimes.com/2021/12/11/opinion/covid-vaccine-omicron-booster.html',\n",
       " 'https://www.nytimes.com/2021/12/10/opinion/cash-crypto-trust-money.html',\n",
       " 'https://www.nytimes.com/2021/12/11/opinion/schools-students-staff.html',\n",
       " 'https://www.nytimes.com/2021/12/11/opinion/what-the-new-right-sees.html',\n",
       " 'https://www.nytimes.com/2021/12/10/opinion/inflation-economy.html',\n",
       " 'https://www.nytimes.com/2021/12/11/opinion/why-hospitalizations-are-now-a-better-indicator-of-covids-impact.html',\n",
       " 'https://www.nytimes.com/2021/12/11/opinion/us-democracy-future.html',\n",
       " 'https://www.nytimes.com/2021/12/11/opinion/great-resignation-labor-shortage.html',\n",
       " 'https://www.nytimes.com/2021/12/11/opinion/letters/abortion.html',\n",
       " 'https://www.nytimes.com/2021/12/11/opinion/omicron-travel-ban-covid-africa.html',\n",
       " 'https://www.nytimes.com/2021/12/10/opinion/international-world/putin-ukraine-biden.html',\n",
       " 'https://www.nytimes.com/2021/12/10/opinion/covid-omicron-psychology-fear.html',\n",
       " 'https://www.nytimes.com/2021/12/10/opinion/scams-trust-institutions.html',\n",
       " 'https://www.nytimes.com/2021/12/10/opinion/independent-journalism-at-risk-nobel-prize.html',\n",
       " 'https://www.nytimes.com/2021/12/10/opinion/supreme-court-abortion-roe.html',\n",
       " 'https://www.nytimes.com/2021/12/10/opinion/covid-evolve-milder.html',\n",
       " 'https://www.nytimes.com/2021/12/10/sports/football/demaryius-thomas-dead.html',\n",
       " 'https://www.nytimes.com/2021/12/10/us/oysters-new-york-hudson-river.html',\n",
       " 'https://www.nytimes.com/2021/12/10/arts/television/where-is-samantha-and-just-like-that.html',\n",
       " 'https://www.nytimes.com/2021/12/10/world/europe/uk-julian-assange-extradition.html',\n",
       " 'https://www.nytimes.com/2021/12/09/well/mind/healthy-habits.html',\n",
       " '#after-dfp-ad-mid3',\n",
       " 'https://www.nytimes.com/2021/12/10/books/review/a-new-oral-history-of-hbo.html',\n",
       " 'https://www.nytimes.com/2021/12/07/opinion/ezra-klein-podcast-ai-jen-poo.html',\n",
       " 'https://www.nytimes.com/2021/11/22/magazine/teaching-the-1619-project-event.html',\n",
       " 'https://www.nytimes.com/newsletters/watching',\n",
       " 'https://www.nytimes.com/2021/12/11/us/texas-migrant-arrests-police.html',\n",
       " 'https://www.nytimes.com/2021/12/11/us/texas-migrant-arrests-police.html',\n",
       " 'https://www.nytimes.com/2021/12/11/us/california-housing-bakersfield.html',\n",
       " 'https://www.nytimes.com/2021/12/11/business/congress-tech-regulation.html',\n",
       " 'https://www.nytimes.com/2021/12/04/science/bats-moms-direction.html',\n",
       " 'https://www.nytimes.com/2021/12/10/world/europe/ukraine-russia-war-naval-vessel.html',\n",
       " 'https://www.nytimes.com/2021/12/11/sports/ncaafootball/heisman-trophy.html',\n",
       " 'https://www.nytimes.com/2021/12/11/nyregion/eric-adams-fund-raisers-canceled.html',\n",
       " 'https://www.nytimes.com/2021/12/12/business/china-alibaba-rape-metoo.html',\n",
       " 'https://www.nytimes.com/2021/12/11/us/hawaii-petroleum-navy.html',\n",
       " 'https://www.nytimes.com/2021/12/10/sports/soccer/mls-cup-nycfc-portland.html',\n",
       " 'https://www.nytimes.com/2021/12/06/us/hyun-sook-han-dead.html',\n",
       " 'https://www.nytimes.com/2021/12/09/well/family/black-santa.html',\n",
       " 'https://www.nytimes.com/article/booster-shots-questions-answers.html',\n",
       " 'https://www.nytimes.com/2021/12/11/well/family/rude-child-development-behavior.html',\n",
       " 'https://www.nytimes.com/interactive/2021/12/09/well/live/09healthquiz-12092021.html',\n",
       " 'https://www.nytimes.com/2021/04/02/well/perioral-dermatitis-pandemic.html',\n",
       " '#after-dfp-ad-mid4',\n",
       " 'https://www.nytimes.com/2021/12/11/style/glyn-johns-get-back-beatles-outfit.html',\n",
       " 'https://www.nytimes.com/2021/12/09/sports/autoracing/f1-hamilton-verstappen-abu-dhabi-grand-prix.html',\n",
       " 'https://www.nytimes.com/2021/12/08/magazine/on-the-citizen-app-even-the-happy-videos-can-be-unsettling.html',\n",
       " 'https://www.nytimes.com/2021/12/08/theater/theater-tv-movies-fandoms-2021.html',\n",
       " 'https://www.nytimes.com/2021/12/10/movies/streaming-horror.html',\n",
       " 'https://cooking.nytimes.com/',\n",
       " 'https://cooking.nytimes.com/recipes/1022693-fig-and-cherry-cookie-pies',\n",
       " 'https://cooking.nytimes.com/recipes/1021780-smashed-chicken-burgers-with-cheddar-and-parsley',\n",
       " 'https://cooking.nytimes.com/recipes/1022766-no-bake-chocolate-clusters',\n",
       " 'https://cooking.nytimes.com/recipes/1022703-guava-and-cream-cheese-twists',\n",
       " 'https://cooking.nytimes.com/recipes/9530-lasagna',\n",
       " 'https://www.nytimes.com/wirecutter/',\n",
       " 'https://www.nytimes.com/wirecutter/reviews/best-touchscreen-gloves/',\n",
       " 'https://www.nytimes.com/wirecutter/gifts/best-gifts-for-mom/',\n",
       " 'https://www.nytimes.com/wirecutter/lists/recommended-tvs/',\n",
       " 'https://www.nytimes.com/wirecutter/reviews/best-air-mattress/',\n",
       " '#after-dfp-ad-bottom',\n",
       " 'https://www.nytimes.com/puzzles/spelling-bee',\n",
       " 'https://www.nytimes.com/crosswords',\n",
       " 'https://www.nytimes.com/puzzles/letter-boxed',\n",
       " 'https://www.nytimes.com/puzzles/tiles',\n",
       " 'https://www.nytimes.com/puzzles/vertex',\n",
       " 'https://help.nytimes.com/hc/en-us/articles/115014792127-Copyright-notice',\n",
       " 'https://www.nytco.com/',\n",
       " 'https://help.nytimes.com/hc/en-us/articles/115015385887-Contact-Us',\n",
       " 'https://help.nytimes.com/hc/en-us/articles/115015727108-Accessibility',\n",
       " 'https://www.nytco.com/careers/',\n",
       " 'https://nytmediakit.com/',\n",
       " 'http://www.tbrandstudio.com/',\n",
       " 'https://www.nytimes.com/privacy/cookie-policy#how-do-i-manage-trackers',\n",
       " 'https://www.nytimes.com/privacy/privacy-policy',\n",
       " 'https://help.nytimes.com/hc/en-us/articles/115014893428-Terms-of-service',\n",
       " 'https://help.nytimes.com/hc/en-us/articles/115014893968-Terms-of-sale',\n",
       " '/sitemap/',\n",
       " 'https://www.nytimes.com/ca/?action=click&region=Footer&pgtype=Homepage',\n",
       " 'https://www.nytimes.com/international/?action=click&region=Footer&pgtype=Homepage',\n",
       " 'https://help.nytimes.com/hc/en-us',\n",
       " 'https://www.nytimes.com/subscription?campaignId=37WXW']"
      ]
     },
     "execution_count": 16,
     "metadata": {},
     "output_type": "execute_result"
    }
   ],
   "source": [
    "urls"
   ]
  },
  {
   "cell_type": "code",
   "execution_count": 17,
   "metadata": {},
   "outputs": [],
   "source": [
    "srch = '/us/politics/'\n",
    "# using list comprehension \n",
    "# to get string with substring \n",
    "res = [i for i in urls if srch in i]"
   ]
  },
  {
   "cell_type": "code",
   "execution_count": 18,
   "metadata": {},
   "outputs": [
    {
     "data": {
      "text/plain": [
       "['https://www.nytimes.com/2021/12/11/us/politics/trust-in-elections-trump-democracy.html',\n",
       " 'https://www.nytimes.com/2021/12/12/us/politics/newsom-texas-abortion-law-guns.html']"
      ]
     },
     "execution_count": 18,
     "metadata": {},
     "output_type": "execute_result"
    }
   ],
   "source": [
    "res"
   ]
  },
  {
   "cell_type": "code",
   "execution_count": 20,
   "metadata": {},
   "outputs": [
    {
     "name": "stdout",
     "output_type": "stream",
     "text": [
      "This belief has informed a wave of mobilization at both grass-roots and elite levels in the party with an eye to future elections. In races for state and county-level offices with direct oversight of elections, Republican candidates coming out of the Stop the Steal movement are running competitive campaigns, in which they enjoy a first-mover advantage in electoral contests that few partisans from either party thought much about before last November.\n",
      "\n",
      "And legislation that state lawmakers have passed or tried to pass this year in a number of states would assert more control over election systems and results by partisan offices that Republicans already decisively control.\n",
      "\n",
      "“This is a five-alarm fire,” said Jocelyn Benson, the Democratic secretary of state in Michigan, who presided over her state’s Trump-contested election in 2020 and may face a Trump-backed challenger next year. “If people in general, leaders and citizens, aren’t taking this as the most important issue of our time and acting accordingly, then we may not be able to ensure democracy prevails again in ’24.”\n",
      "\n",
      "In some areas, new political battlefields are opening up where none existed before.\n",
      "\n",
      "Until this year, races for administrative positions like judge of elections were noncompetitive to the point of being more or less volunteer opportunities. Candidates ran unopposed, or sometimes not at all: The seat that Mr. Lindemuth ran for had been technically unoccupied before his election, filled by appointment by the County Board of Elections.\n",
      "\n",
      "“There’s a lot of apathy here,” said Lisa Sargen Heilner, a former Republican committeewoman in Mount Joy Township, who resigned her post shortly after local Republicans endorsed Mr. Lindemuth and his wife, Danielle, in a concurrent school board election in which they both won seats. “I just kind of wanted to disassociate myself from them,” Mrs. Heilner said.\n",
      "Angered by the U.S. Supreme Court decision to continue allowing private citizens to sue Texas abortion providers, Gov. Gavin Newsom of California on Saturday called for a similar law giving ordinary residents legal standing to file lawsuits against purveyors of restricted firearms.\n",
      "\n",
      "“SCOTUS is letting private citizens in Texas sue to stop abortion?!” Mr. Newsom, a Democrat, tweeted. “If that’s the precedent, then we’ll let Californians sue those who put ghost guns and assault weapons on our streets. If TX can ban abortion and endanger lives, CA can ban deadly weapons of war and save lives.”\n",
      "\n",
      "The governor’s response seemed to contradict his earlier criticism of the Texas law, which Mr. Newsom had previously described as a cynical attempt to undercut federal rights.\n",
      "\n",
      "In a statement released on Saturday evening, Mr. Newsom said he had instructed his staff to work with California’s Legislature and attorney general to write a bill that would let citizens sue anyone who “manufactures, distributes, or sells an assault weapon or ghost gun kit or parts” in California. The governor called for damages of at least $10,000 per violation, plus costs and attorney’s fees.\n"
     ]
    }
   ],
   "source": [
    "from newspaper import Article\n",
    "\n",
    "current_news_articles = []\n",
    "#url = \"https://www.nytimes.com/2021/12/10/us/politics/capitol-attack-meadows-powerpoint.html\"\n",
    "for i in res: \n",
    "    # download and parse article\n",
    "    article = Article(i)\n",
    "    article.download()\n",
    "    article.parse()\n",
    "\n",
    "    # print article text\n",
    "    print(article.text)\n",
    "    current_news_articles.append(article.text)"
   ]
  },
  {
   "cell_type": "code",
   "execution_count": 21,
   "metadata": {},
   "outputs": [
    {
     "data": {
      "text/plain": [
       "['This belief has informed a wave of mobilization at both grass-roots and elite levels in the party with an eye to future elections. In races for state and county-level offices with direct oversight of elections, Republican candidates coming out of the Stop the Steal movement are running competitive campaigns, in which they enjoy a first-mover advantage in electoral contests that few partisans from either party thought much about before last November.\\n\\nAnd legislation that state lawmakers have passed or tried to pass this year in a number of states would assert more control over election systems and results by partisan offices that Republicans already decisively control.\\n\\n“This is a five-alarm fire,” said Jocelyn Benson, the Democratic secretary of state in Michigan, who presided over her state’s Trump-contested election in 2020 and may face a Trump-backed challenger next year. “If people in general, leaders and citizens, aren’t taking this as the most important issue of our time and acting accordingly, then we may not be able to ensure democracy prevails again in ’24.”\\n\\nIn some areas, new political battlefields are opening up where none existed before.\\n\\nUntil this year, races for administrative positions like judge of elections were noncompetitive to the point of being more or less volunteer opportunities. Candidates ran unopposed, or sometimes not at all: The seat that Mr. Lindemuth ran for had been technically unoccupied before his election, filled by appointment by the County Board of Elections.\\n\\n“There’s a lot of apathy here,” said Lisa Sargen Heilner, a former Republican committeewoman in Mount Joy Township, who resigned her post shortly after local Republicans endorsed Mr. Lindemuth and his wife, Danielle, in a concurrent school board election in which they both won seats. “I just kind of wanted to disassociate myself from them,” Mrs. Heilner said.',\n",
       " 'Angered by the U.S. Supreme Court decision to continue allowing private citizens to sue Texas abortion providers, Gov. Gavin Newsom of California on Saturday called for a similar law giving ordinary residents legal standing to file lawsuits against purveyors of restricted firearms.\\n\\n“SCOTUS is letting private citizens in Texas sue to stop abortion?!” Mr. Newsom, a Democrat, tweeted. “If that’s the precedent, then we’ll let Californians sue those who put ghost guns and assault weapons on our streets. If TX can ban abortion and endanger lives, CA can ban deadly weapons of war and save lives.”\\n\\nThe governor’s response seemed to contradict his earlier criticism of the Texas law, which Mr. Newsom had previously described as a cynical attempt to undercut federal rights.\\n\\nIn a statement released on Saturday evening, Mr. Newsom said he had instructed his staff to work with California’s Legislature and attorney general to write a bill that would let citizens sue anyone who “manufactures, distributes, or sells an assault weapon or ghost gun kit or parts” in California. The governor called for damages of at least $10,000 per violation, plus costs and attorney’s fees.']"
      ]
     },
     "execution_count": 21,
     "metadata": {},
     "output_type": "execute_result"
    }
   ],
   "source": [
    "current_news_articles"
   ]
  },
  {
   "cell_type": "code",
   "execution_count": null,
   "metadata": {},
   "outputs": [],
   "source": []
  }
 ],
 "metadata": {
  "kernelspec": {
   "display_name": "Python 3",
   "language": "python",
   "name": "python3"
  },
  "language_info": {
   "codemirror_mode": {
    "name": "ipython",
    "version": 3
   },
   "file_extension": ".py",
   "mimetype": "text/x-python",
   "name": "python",
   "nbconvert_exporter": "python",
   "pygments_lexer": "ipython3",
   "version": "3.8.5"
  }
 },
 "nbformat": 4,
 "nbformat_minor": 2
}
